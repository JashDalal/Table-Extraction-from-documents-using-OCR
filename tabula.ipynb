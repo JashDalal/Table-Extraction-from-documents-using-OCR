{
 "cells": [
  {
   "cell_type": "code",
   "execution_count": 6,
   "metadata": {
    "scrolled": true
   },
   "outputs": [
    {
     "name": "stdout",
     "output_type": "stream",
     "text": [
      "Draft For Discussion Purposes Only\n",
      "\n",
      " \n",
      "\n",
      "Viii. Acceptance Criteria [For Fixed Price Development projects]\n",
      "\n",
      "ix. Acceptance Procedure /For Fixed Price Development projects]\n",
      "\n",
      "x. Dependencies\n",
      "\n",
      "xi. Assumptions\n",
      "\n",
      "so CONTACTS\n",
      "Project Executives\n",
      "\n",
      "The following Project Executives shall assume operational responsibility for this\n",
      "Work Order\n",
      "\n",
      "Customer Project Executive:\n",
      "\n",
      "| Fax\n",
      "\n",
      " \n",
      "\n",
      "Vendor Project Executive :\n",
      "\n",
      " \n",
      "\n",
      " \n",
      "\n",
      " \n",
      "\n",
      "Telephone |\n",
      "Fax !\n",
      "E-Mail\n",
      "\n",
      "Other Contacts\n",
      "\n",
      "Telephone\n",
      "Fax\n",
      "E-Mail\n",
      "\n",
      " \n",
      "\n",
      " \n",
      "\n",
      " \n",
      "\n",
      " \n",
      "\n",
      " \n",
      "\n",
      "Confidential\n",
      "Page 19 of 23\n"
     ]
    }
   ],
   "source": [
    "import PIL\n",
    "from PIL import Image\n",
    "import cv2\n",
    "import pytesseract\n",
    "import img2pdf\n",
    "import tabula\n",
    "\n",
    "image = cv2.imread(r'images/table.jpg',cv2.IMREAD_COLOR)\n",
    "cv2.imshow('img', image)\n",
    "cv2.waitKey(0)\n",
    "\n",
    "\n",
    "grayedimg = cv2.cvtColor(image, cv2.COLOR_BGR2GRAY) \n",
    "grayedimg = cv2.threshold(grayedimg, 0, 255, cv2.THRESH_BINARY | cv2.THRESH_OTSU)[1] \n",
    "cv2.imwrite(r\"images/table1.jpg\", grayedimg)\n",
    "\n",
    "pytesseract.pytesseract.tesseract_cmd = r\"C:\\Program Files\\Tesseract-OCR\\tesseract.exe\"\n",
    "\n",
    "img = Image.open(r\"images/table.jpg\")\n",
    "text = pytesseract.image_to_string(img, lang='eng', config='--psm 3')\n",
    "print(text)\n"
   ]
  },
  {
   "cell_type": "code",
   "execution_count": 62,
   "metadata": {},
   "outputs": [],
   "source": [
    "# tabula-py is just a wrapper around tabula-java\n",
    "img_path = r\"images/scan_2-20.jpg\"\n",
    "pdf_path = r\"pdfs/working/abc.pdf\"\n",
    "output_path = r\"csv files/abc.csv\"\n"
   ]
  },
  {
   "cell_type": "code",
   "execution_count": 63,
   "metadata": {},
   "outputs": [],
   "source": [
    "#converts image to pdf in case of image input\n",
    "image = Image.open(img_path)\n",
    "pdf_bytes = img2pdf.convert(image.filename)\n",
    "file = open(pdf_path, \"wb\")\n",
    "file.write(pdf_bytes) \n",
    "image.close()\n",
    "file.close()\n"
   ]
  },
  {
   "cell_type": "code",
   "execution_count": 64,
   "metadata": {},
   "outputs": [
    {
     "data": {
      "text/plain": [
       "[]"
      ]
     },
     "execution_count": 64,
     "metadata": {},
     "output_type": "execute_result"
    }
   ],
   "source": [
    "df = tabula.read_pdf(pdf_path, pages='all', multiple_tables = True, guess = True)\n",
    "df2 = tabula.convert_into(pdf_path, output_path, output_format=\"csv\", multiple_tables = True, pages = 'all')\n",
    "df"
   ]
  }
 ],
 "metadata": {
  "kernelspec": {
   "display_name": "Python 3",
   "language": "python",
   "name": "python3"
  },
  "language_info": {
   "codemirror_mode": {
    "name": "ipython",
    "version": 3
   },
   "file_extension": ".py",
   "mimetype": "text/x-python",
   "name": "python",
   "nbconvert_exporter": "python",
   "pygments_lexer": "ipython3",
   "version": "3.7.1"
  }
 },
 "nbformat": 4,
 "nbformat_minor": 2
}
