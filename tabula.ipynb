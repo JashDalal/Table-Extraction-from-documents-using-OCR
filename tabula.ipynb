{
 "cells": [
  {
   "cell_type": "code",
   "execution_count": 4,
   "metadata": {},
   "outputs": [],
   "source": [
    "# tabula-py is just a wrapper around tabula-java\n",
    "img_path = r\"images/beautify.jpg\"\n",
    "pdf_path = r\"pdfs/split.pdf\"\n",
    "output_path = r\"csv files/split.csv\"\n"
   ]
  },
  {
   "cell_type": "code",
   "execution_count": 2,
   "metadata": {
    "scrolled": true
   },
   "outputs": [
    {
     "name": "stdout",
     "output_type": "stream",
     "text": [
      "Example 4: Automobile Land Speed Records (GR 5-10)\n",
      "\n",
      "In the first recorded automobile race in 1898, Count Gaston de Chasseloup-Laubat of,\n",
      "Paris, France, drove 1 kilometer in 57 seconds for an average speed of 39.2 miles per hour\n",
      "(mph) or 63.1 kilometers per hour (kph). In 1904, Henry Ford drove his Ford Arrow across\n",
      "frozen Lake St. Clair; MI, at an average speed of 91.4 mph. Now, the North American\n",
      "Eagle is trying to break a land speed record of 800 mph. The Federation International de\n",
      "Lautomobile (FIA), the world’s governing body for motor sport and land speed records,\n",
      "recorded the following land speed records. (Retrieved on February 5, 2006, from\n",
      "\n",
      "http://www.landspeed.com/lsrinfo.asp.)\n",
      "\n",
      " \n",
      "\n",
      " \n",
      "\n",
      " \n",
      "\n",
      " \n",
      "\n",
      " \n",
      "\n",
      " \n",
      "\n",
      " \n",
      "\n",
      " \n",
      "\n",
      " \n",
      "\n",
      " \n",
      "\n",
      " \n",
      "\n",
      " \n",
      "\n",
      " \n",
      "\n",
      " \n",
      "\n",
      " \n",
      "\n",
      " \n",
      "\n",
      " \n",
      "\n",
      "speed (mph) | Driver car Engine Date\n",
      "407.447 Craig Breedlove | Spirit of America e347 9/5/63\n",
      "413.199 ‘Tom Green| Wingfoot Exprese WE 346 10/2/64\n",
      "434,22 Art Arfons Green Monster cEN79 10/5/64\n",
      "469.719, Craig Breedlove | Spirit of America cEN9 10/13/64\n",
      "526.27 Craig Breedlove | Spirit of America cen 10/15/65\n",
      "536.722, Ait Arfons Green Monster ceN79 10/27/65\n",
      "955.127 Craig Breedlove | Spirit of America, Sonic 1 | GEI79 11/2/65\n",
      "576.553, Art Arfons (Green Monster GEN79 1/7/65\n",
      "600.601 Craig Breedlove | Spirit of America, Sonie1 | GE379 14/15/65\n",
      "622.407 ‘Gary Gabelich Blue lame: Rocket 10/23/70\n",
      "633.468, Richard Noble Thrust 2 arc i4s | 10/4/83\n",
      "763.035 ‘Andy Green Thrust SSC RRSpey _ | 10/15/97\n",
      "\n",
      " \n",
      "\n",
      " \n",
      "\n",
      " \n",
      "\n",
      "Example 5: Distance and Time (GR 8-10)\n",
      "The following data were collected using a car with a water clock set to release a drop in\n",
      "\n",
      "a unit of time and a meter stick. The car rolled down an inclined plane. Three trials were\n",
      "run. Create a data table with an average distance column and an average velocity column,\n",
      "create an average distance-time graph, and draw the best-fit line or curve. Estimate the\n",
      "car's distance traveled and velocity at six drops of water. Describe the motion of the car. Is\n",
      "it going at 2 constant speed, accelerating, or decelerating? How do you know?\n",
      "\n",
      " \n",
      "\n",
      " \n",
      "\n",
      " \n",
      "\n",
      " \n",
      "\n",
      " \n",
      "\n",
      " \n",
      "\n",
      "Time (drops of water) | _ Distance (em)\n",
      "T T0da3\n",
      "2 29, 31,30\n",
      "3 59, 58, 62\n",
      "4 102, 100, 98\n",
      "3 122, 125, 127\n",
      "\n",
      " \n",
      "\n",
      " \n",
      "\n",
      " \n",
      "\n",
      " \n",
      "\n",
      "© 2006 WGBH Educational Foundation. All rights reserved.\n"
     ]
    }
   ],
   "source": [
    "import PIL\n",
    "from PIL import Image\n",
    "import cv2\n",
    "import pytesseract\n",
    "import img2pdf\n",
    "import tabula\n",
    "\n",
    "image = cv2.imread(img_path,cv2.IMREAD_COLOR)\n",
    "\n",
    "grayedimg = cv2.cvtColor(image, cv2.COLOR_BGR2GRAY) \n",
    "grayedimg = cv2.threshold(grayedimg, 0, 255, cv2.THRESH_BINARY | cv2.THRESH_OTSU)[1] \n",
    "cv2.imwrite(r\"images/buffer.jpg\", grayedimg)\n",
    "\n",
    "pytesseract.pytesseract.tesseract_cmd = r\"C:\\Program Files\\Tesseract-OCR\\tesseract.exe\"\n",
    "\n",
    "with Image.open(img_path) as img:\n",
    "    tesseract_output = pytesseract.image_to_string(img, lang='eng', config='--psm 3')\n",
    "    img.close()\n",
    "print(tesseract_output)"
   ]
  },
  {
   "cell_type": "code",
   "execution_count": 63,
   "metadata": {},
   "outputs": [],
   "source": [
    "#converts image to pdf in case of image input\n",
    "image = Image.open(img_path)\n",
    "pdf_bytes = img2pdf.convert(image.filename)\n",
    "file = open(pdf_path, \"wb\")\n",
    "file.write(pdf_bytes) \n",
    "image.close()\n",
    "file.close()\n"
   ]
  },
  {
   "cell_type": "code",
   "execution_count": 122,
   "metadata": {},
   "outputs": [
    {
     "name": "stdout",
     "output_type": "stream",
     "text": [
      "                       0              1\n",
      "0  Time (drops of water)  Distance (cm)\n",
      "1                      1        10,11,9\n",
      "2                      2     29, 31, 30\n",
      "3                      3     59, 58, 61\n",
      "4                      4   102, 100, 98\n",
      "5                      5  122, 125, 127\n"
     ]
    }
   ],
   "source": [
    "list_try = tabula.read_pdf(pdf_path, pages='all', multiple_tables = True, guess = True)\n",
    "df2 = tabula.convert_into(pdf_path, output_path, output_format=\"csv\", multiple_tables = True, pages = 'all')\n",
    "print(((list_try[1]).to_string()))"
   ]
  },
  {
   "cell_type": "code",
   "execution_count": 119,
   "metadata": {},
   "outputs": [
    {
     "name": "stdout",
     "output_type": "stream",
     "text": [
      "<class 'str'>\n",
      "['Example 4: Automobile Land Speed Records (GR 5-10)\\n\\nIn the first recorded automobile race in 1898, Count Gaston de Chasseloup-Laubat of,\\nParis, France, drove 1 kilometer in 57 seconds for an average speed of 39.2 miles per hour\\n(mph) or 63.1 kilometers per hour (kph). In 1904, Henry Ford drove his Ford Arrow across\\nfrozen Lake St. Clair; MI, at an average speed of 91.4 mph. Now, the North American\\nEagle is trying to break a land speed record of 800 mph. The Federation International de\\nLautomobile (FIA), the world’s governing body for motor sport and land speed records,\\nrecorded the following land speed records. (Retrieved on February 5, 2006, from\\n\\nhttp://www.landspeed.com/lsrinfo.asp.)', '\\n\\n ', 'speed (mph) | Driver car Engine Date\\n407.447 Craig Breedlove | Spirit of America e347 9/5/63\\n413.199 ‘Tom Green| Wingfoot Exprese WE 346 10/2/64\\n434,22 Art Arfons Green Monster cEN79 10/5/64\\n469.719, Craig Breedlove | Spirit of America cEN9 10/13/64\\n526.27 Craig Breedlove | Spirit of America cen 10/15/65\\n536.722, Ait Arfons Green Monster ceN79 10/27/65\\n955.127 Craig Breedlove | Spirit of America, Sonic 1 | GEI79 11/2/65\\n576.553, Art Arfons (Green Monster GEN79 1/7/65\\n600.601 Craig Breedlove | Spirit of America, Sonie1 | GE379 14/15/65\\n622.407 ‘Gary Gabelich Blue lame: Rocket 10/23/70\\n633.468, Richard Noble Thrust 2 arc i4s | 10/4/83\\n763.035 ‘Andy Green Thrust SSC RRSpey _ | 10/15/97', '\\n\\n ', \"Example 5: Distance and Time (GR 8-10)\\nThe following data were collected using a car with a water clock set to release a drop in\\n\\na unit of time and a meter stick. The car rolled down an inclined plane. Three trials were\\nrun. Create a data table with an average distance column and an average velocity column,\\ncreate an average distance-time graph, and draw the best-fit line or curve. Estimate the\\ncar's distance traveled and velocity at six drops of water. Describe the motion of the car. Is\\nit going at 2 constant speed, accelerating, or decelerating? How do you know?\", '\\n\\n ', 'Time (drops of water) | _ Distance (em)\\nT T0da3\\n2 29, 31,30\\n3 59, 58, 62\\n4 102, 100, 98\\n3 122, 125, 127', '\\n\\n ', '© 2006 WGBH Educational Foundation. All rights reserved.']\n",
      "<class 'str'>\n"
     ]
    }
   ],
   "source": [
    "import re\n",
    "print(type(tesseract_output))\n",
    "without_table = re.split(r\"\\n\\n (\\n\\n )*\\n*\", tesseract_output)\n",
    "#print(''.join(without_table))\n",
    "print(without_table)\n",
    "print(type(without_table[2]))\n"
   ]
  },
  {
   "cell_type": "code",
   "execution_count": 129,
   "metadata": {},
   "outputs": [
    {
     "name": "stdout",
     "output_type": "stream",
     "text": [
      "Example 4: Automobile Land Speed Records (GR 5-10)\n",
      "\n",
      "In the first recorded automobile race in 1898, Count Gaston de Chasseloup-Laubat of,\n",
      "Paris, France, drove 1 kilometer in 57 seconds for an average speed of 39.2 miles per hour\n",
      "(mph) or 63.1 kilometers per hour (kph). In 1904, Henry Ford drove his Ford Arrow across\n",
      "frozen Lake St. Clair; MI, at an average speed of 91.4 mph. Now, the North American\n",
      "Eagle is trying to break a land speed record of 800 mph. The Federation International de\n",
      "Lautomobile (FIA), the world’s governing body for motor sport and land speed records,\n",
      "recorded the following land speed records. (Retrieved on February 5, 2006, from\n",
      "\n",
      "http://www.landspeed.com/lsrinfo.asp.)\n",
      "\n",
      "               0                1                           2          3         4\n",
      "0   Speed (mph)           Driver                         Car     Engine      Date\n",
      "1       407.447  Craig Breedlove           Spirit of America     GE J47    8/5/63\n",
      "2       413.199        Tom Green            Wingfoot Express     WE J46   10/2/64\n",
      "3        434.22       Art Arfons               Green Monster     GE J79   10/5/64\n",
      "4       468.719  Craig Breedlove           Spirit of America     GE J79  10/13/64\n",
      "5       526.277  Craig Breedlove           Spirit of America     GE J79  10/15/65\n",
      "6       536.712       Art Arfons               Green Monster     GE J79  10/27/65\n",
      "7       555.127  Craig Breedlove  Spirit of America, Sonic 1     GE J79   11/2/65\n",
      "8       576.553       Art Arfons               Green Monster     GE J79   11/7/65\n",
      "9       600.601  Craig Breedlove  Spirit of America, Sonic 1     GE J79  11/15/65\n",
      "10      622.407    Gary Gabelich                  Blue Flame     Rocket  10/23/70\n",
      "11      633.468    Richard Noble                    Thrust 2  RR RG 146   10/4/83\n",
      "12      763.035       Andy Green                  Thrust SSC    RR Spey  10/15/97\n",
      "\n",
      " Example 5: Distance and Time (GR 8-10)\n",
      "The following data were collected using a car with a water clock set to release a drop in\n",
      "\n",
      "a unit of time and a meter stick. The car rolled down an inclined plane. Three trials were\n",
      "run. Create a data table with an average distance column and an average velocity column,\n",
      "create an average distance-time graph, and draw the best-fit line or curve. Estimate the\n",
      "car's distance traveled and velocity at six drops of water. Describe the motion of the car. Is\n",
      "it going at 2 constant speed, accelerating, or decelerating? How do you know?\n",
      "\n",
      " Time (drops of water) | _ Distance (em)\n",
      "T T0da3\n",
      "2 29, 31,30\n",
      "3 59, 58, 62\n",
      "4 102, 100, 98\n",
      "3 122, 125, 127\n",
      "\n",
      " © 2006 WGBH Educational Foundation. All rights reserved.\n"
     ]
    }
   ],
   "source": [
    "index = 0\n",
    "for i in range(len(without_table) - 2):\n",
    "    if((without_table[i] == '\\n\\n ') and (without_table[i + 2] == '\\n\\n ') and without_table[i + 1].count('|') > 2):\n",
    "        without_table[i + 1] = list_try[index].to_string()\n",
    "        index += 1\n",
    "print(''.join(without_table))"
   ]
  },
  {
   "cell_type": "code",
   "execution_count": null,
   "metadata": {},
   "outputs": [],
   "source": []
  }
 ],
 "metadata": {
  "kernelspec": {
   "display_name": "Python 3",
   "language": "python",
   "name": "python3"
  },
  "language_info": {
   "codemirror_mode": {
    "name": "ipython",
    "version": 3
   },
   "file_extension": ".py",
   "mimetype": "text/x-python",
   "name": "python",
   "nbconvert_exporter": "python",
   "pygments_lexer": "ipython3",
   "version": "3.7.1"
  }
 },
 "nbformat": 4,
 "nbformat_minor": 2
}
